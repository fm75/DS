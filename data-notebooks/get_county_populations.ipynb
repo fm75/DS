{
 "cells": [
  {
   "cell_type": "code",
   "execution_count": 1,
   "metadata": {},
   "outputs": [],
   "source": [
    "import sys\n",
    "sys.path.append('../src')"
   ]
  },
  {
   "cell_type": "code",
   "execution_count": 2,
   "metadata": {},
   "outputs": [],
   "source": [
    "import pandas as pd\n",
    "from pathlib import Path\n",
    "from population import us_county_population"
   ]
  },
  {
   "cell_type": "code",
   "execution_count": 3,
   "metadata": {},
   "outputs": [],
   "source": [
    "pd.set_option('max_rows', 100) "
   ]
  },
  {
   "cell_type": "code",
   "execution_count": 4,
   "metadata": {},
   "outputs": [],
   "source": [
    "states = pd.read_csv('../data/states.csv')"
   ]
  },
  {
   "cell_type": "code",
   "execution_count": 5,
   "metadata": {},
   "outputs": [],
   "source": [
    "def domainify(state: str) -> str:\n",
    "    return f\"https://www.{state.replace(' ', '').lower()}-demographics.com/counties_by_population\""
   ]
  },
  {
   "cell_type": "code",
   "execution_count": 6,
   "metadata": {},
   "outputs": [
    {
     "name": "stdout",
     "output_type": "stream",
     "text": [
      "../data/counties/alabama.csv\n",
      "../data/counties/alaska.csv\n",
      "../data/counties/arizona.csv\n",
      "../data/counties/arkansas.csv\n",
      "../data/counties/california.csv\n",
      "../data/counties/colorado.csv\n",
      "../data/counties/connecticut.csv\n",
      "../data/counties/delaware.csv\n",
      "Diamond Princess population not retrieved. https://www.diamondprincess-demographics.com/counties_by_population\n",
      "District of Columbia population not retrieved. https://www.districtofcolumbia-demographics.com/counties_by_population\n",
      "../data/counties/florida.csv\n",
      "../data/counties/georgia.csv\n",
      "Grand Princess population not retrieved. https://www.grandprincess-demographics.com/counties_by_population\n",
      "Guam population not retrieved. https://www.guam-demographics.com/counties_by_population\n",
      "../data/counties/hawaii.csv\n",
      "../data/counties/idaho.csv\n",
      "../data/counties/illinois.csv\n",
      "../data/counties/indiana.csv\n",
      "../data/counties/iowa.csv\n",
      "../data/counties/kansas.csv\n",
      "../data/counties/kentucky.csv\n",
      "../data/counties/louisiana.csv\n",
      "../data/counties/maine.csv\n",
      "../data/counties/maryland.csv\n",
      "../data/counties/massachusetts.csv\n",
      "../data/counties/michigan.csv\n",
      "../data/counties/minnesota.csv\n",
      "../data/counties/mississippi.csv\n",
      "../data/counties/missouri.csv\n",
      "../data/counties/montana.csv\n",
      "../data/counties/nebraska.csv\n",
      "../data/counties/nevada.csv\n",
      "../data/counties/newhampshire.csv\n",
      "../data/counties/newjersey.csv\n",
      "../data/counties/newmexico.csv\n",
      "../data/counties/newyork.csv\n",
      "../data/counties/northcarolina.csv\n",
      "../data/counties/northdakota.csv\n",
      "Northern Mariana Islands population not retrieved. https://www.northernmarianaislands-demographics.com/counties_by_population\n",
      "../data/counties/ohio.csv\n",
      "../data/counties/oklahoma.csv\n",
      "../data/counties/oregon.csv\n",
      "../data/counties/pennsylvania.csv\n",
      "Puerto Rico population not retrieved. https://www.puertorico-demographics.com/counties_by_population\n",
      "Recovered population not retrieved. https://www.recovered-demographics.com/counties_by_population\n",
      "../data/counties/rhodeisland.csv\n",
      "../data/counties/southcarolina.csv\n",
      "../data/counties/southdakota.csv\n",
      "../data/counties/tennessee.csv\n",
      "../data/counties/texas.csv\n",
      "../data/counties/utah.csv\n",
      "../data/counties/vermont.csv\n",
      "Virgin Islands population not retrieved. https://www.virginislands-demographics.com/counties_by_population\n",
      "../data/counties/virginia.csv\n",
      "../data/counties/washington.csv\n",
      "../data/counties/westvirginia.csv\n",
      "../data/counties/wisconsin.csv\n",
      "../data/counties/wyoming.csv\n"
     ]
    }
   ],
   "source": [
    "data = Path('../data/counties')\n",
    "for state in states.state:\n",
    "    st = domainify(state)\n",
    "    try:\n",
    "        file = data / Path(state.replace(' ', '').lower() + '.csv')\n",
    "        df = us_county_population(st)\n",
    "        df.to_csv(file)\n",
    "        print(f'{file}')\n",
    "    except:\n",
    "        print(f'{state} population not retrieved. {st}')"
   ]
  },
  {
   "cell_type": "code",
   "execution_count": null,
   "metadata": {},
   "outputs": [],
   "source": []
  }
 ],
 "metadata": {
  "kernelspec": {
   "display_name": "Python 3",
   "language": "python",
   "name": "python3"
  },
  "language_info": {
   "codemirror_mode": {
    "name": "ipython",
    "version": 3
   },
   "file_extension": ".py",
   "mimetype": "text/x-python",
   "name": "python",
   "nbconvert_exporter": "python",
   "pygments_lexer": "ipython3",
   "version": "3.7.6"
  }
 },
 "nbformat": 4,
 "nbformat_minor": 4
}
