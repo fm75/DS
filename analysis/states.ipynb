{
 "cells": [
  {
   "cell_type": "code",
   "execution_count": null,
   "metadata": {},
   "outputs": [],
   "source": [
    "import sys\n",
    "sys.path.append('../src')"
   ]
  },
  {
   "cell_type": "code",
   "execution_count": null,
   "metadata": {},
   "outputs": [],
   "source": [
    "import ipywidgets as widgets\n",
    "import pandas as pd\n",
    "from ipywidgets import interact, interactive, fixed, interact_manual\n",
    "from pathlib import Path\n",
    "\n",
    "from covid import daily_snapshot\n",
    "import population as pop\n",
    "#import requests"
   ]
  },
  {
   "cell_type": "code",
   "execution_count": null,
   "metadata": {},
   "outputs": [],
   "source": [
    "pd.set_option('max_rows', 300) "
   ]
  },
  {
   "cell_type": "code",
   "execution_count": null,
   "metadata": {},
   "outputs": [],
   "source": [
    "def county_populations_for(state: str) -> pd.DataFrame:\n",
    "    data = Path('../data/counties')\n",
    "    state_pop_path = data / Path(state.replace(' ', '').lower() + '.csv')\n",
    "    state_pop = pd.read_csv(state_pop_path)\n",
    "    return state_pop"
   ]
  },
  {
   "cell_type": "code",
   "execution_count": null,
   "metadata": {},
   "outputs": [],
   "source": [
    "def f(state, date, sort_by, ascending):\n",
    "    daily = daily_snapshot(datetime.strftime(date, '%m-%d-%Y'))\n",
    "    state_covid = daily[daily.Province_State == state].copy()\n",
    "    state_covid['death_rate'] = 100 * state_covid['Deaths'] / state_covid['Confirmed']\n",
    "    state_columns=['Admin2', 'Confirmed', 'Deaths', 'Recovered', 'Active', 'death_rate' ]\n",
    "    county_pop = county_populations_for(state)\n",
    "    state_with_population = pd.merge(state_covid[state_columns], county_pop,\n",
    "         how='outer',\n",
    "         left_on='Admin2', right_on='county')\n",
    "\n",
    "    state_with_population['fraction_confirmed'] = state_with_population['Confirmed'] / state_with_population['pop2019']   * 1000.0\n",
    "    state_with_population['deaths']             = state_with_population['Deaths']    / state_with_population['pop2019']   * 1000.0\n",
    "    state_with_population['death_rate?']        = state_with_population['Deaths']    / state_with_population['Confirmed'] * 1000.0\n",
    "\n",
    "    # sort_by = input(\"column to sort Confirmed, Deaths, county, pop2019, fraction_confirmed, deaths, death_rate?\")\n",
    "    display(state_with_population.sort_values(by=sort_by, ascending=False))\n"
   ]
  },
  {
   "cell_type": "code",
   "execution_count": null,
   "metadata": {},
   "outputs": [],
   "source": [
    "states = list(pd.read_csv('../data/us-states-only.csv').state)\n",
    "\n",
    "state = widgets.Select(\n",
    "    options=states,\n",
    "    #value='Alabama',\n",
    "    rows=10,\n",
    "    description='State:',\n",
    "    disabled=False\n",
    "    )\n",
    "\n",
    "from datetime import datetime, timedelta\n",
    "date = widgets.DatePicker(description='Date',\n",
    "                          value=datetime.today() - timedelta(1),\n",
    "                          disabled=False\n",
    "                          )\n",
    "\n",
    "sort_by = widgets.Select(\n",
    "    options=['Confirmed', \n",
    "             'Deaths',\n",
    "             'death_rate'\n",
    "             'county', \n",
    "             'pop2019', \n",
    "             'fraction_confirmed', \n",
    "             'deaths', \n",
    "             'death_rate?'],\n",
    "    value='fraction_confirmed',\n",
    "    rows=7,\n",
    "    description='sort by:',\n",
    "    disabled=False\n",
    "    )\n",
    "\n",
    "ascending = widgets.Checkbox(\n",
    "    value=True,\n",
    "    description='Sort Ascending',\n",
    "    disabled=False,\n",
    "    indent=False\n",
    ")\n",
    "\n",
    "ui = widgets.HBox([state, date, sort_by, ascending])\n",
    "\n",
    "\n",
    "\n",
    "out = widgets.interactive_output(f, {'state': state, \n",
    "                                     'date': date, \n",
    "                                     'sort_by': sort_by,\n",
    "                                     'ascending': ascending})\n",
    "\n",
    "display(ui, out)"
   ]
  },
  {
   "cell_type": "code",
   "execution_count": null,
   "metadata": {},
   "outputs": [],
   "source": []
  },
  {
   "cell_type": "code",
   "execution_count": null,
   "metadata": {},
   "outputs": [],
   "source": []
  },
  {
   "cell_type": "code",
   "execution_count": null,
   "metadata": {},
   "outputs": [],
   "source": []
  },
  {
   "cell_type": "code",
   "execution_count": null,
   "metadata": {},
   "outputs": [],
   "source": []
  }
 ],
 "metadata": {
  "kernelspec": {
   "display_name": "Python 3",
   "language": "python",
   "name": "python3"
  },
  "language_info": {
   "codemirror_mode": {
    "name": "ipython",
    "version": 3
   },
   "file_extension": ".py",
   "mimetype": "text/x-python",
   "name": "python",
   "nbconvert_exporter": "python",
   "pygments_lexer": "ipython3",
   "version": "3.7.6"
  }
 },
 "nbformat": 4,
 "nbformat_minor": 4
}
