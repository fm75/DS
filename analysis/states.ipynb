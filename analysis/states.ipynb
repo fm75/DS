{
 "cells": [
  {
   "cell_type": "code",
   "execution_count": 35,
   "metadata": {},
   "outputs": [],
   "source": [
    "from ipywidgets import interact, interactive, fixed, interact_manual\n",
    "import ipywidgets as widgets\n",
    "\n",
    "import pandas as pd\n",
    "states = list(pd.read_csv('../data/us-states-only.csv').state)\n",
    "\n",
    "state = widgets.Select(\n",
    "    options=states,\n",
    "    #value='Alabama',\n",
    "    rows=10,\n",
    "    description='State:',\n",
    "    disabled=False\n",
    "    )\n",
    "\n",
    "from datetime import datetime\n",
    "date = widgets.DatePicker(description='Date',\n",
    "                          value=datetime.today(),\n",
    "                          disabled=False\n",
    "                          )\n",
    "\n",
    "sort_by = widgets.Select(\n",
    "    options=['state', 'date'],\n",
    "    value='date',\n",
    "    rows=2,\n",
    "    description='sort by:',\n",
    "    disabled=False\n",
    "    )\n",
    "\n",
    "ascending = widgets.Checkbox(\n",
    "    value=True,\n",
    "    description='Sort Ascending',\n",
    "    disabled=False,\n",
    "    indent=False\n",
    ")\n",
    "\n",
    "ui = widgets.HBox([state, date, sort_by, ascending])\n",
    "\n",
    "def f(state, date, sort_by, ascending):\n",
    "    dt = datetime.strftime(date, '%m-%d-%Y')\n",
    "    df = pd.read_csv('../data/us-states-only.csv')\n",
    "    df['date'] = dt\n",
    "    print(df.sort_values(by=sort_by, ascending=ascending))\n",
    "\n",
    "out = widgets.interactive_output(f, {'state': state, \n",
    "                                     'date': date, \n",
    "                                     'sort_by': sort_by,\n",
    "                                     'ascending': ascending})\n",
    "\n",
    "display(ui, out)"
   ]
  },
  {
   "cell_type": "code",
   "execution_count": null,
   "metadata": {},
   "outputs": [],
   "source": []
  },
  {
   "cell_type": "code",
   "execution_count": null,
   "metadata": {},
   "outputs": [],
   "source": []
  },
  {
   "cell_type": "code",
   "execution_count": null,
   "metadata": {},
   "outputs": [],
   "source": []
  },
  {
   "cell_type": "code",
   "execution_count": null,
   "metadata": {},
   "outputs": [],
   "source": []
  }
 ],
 "metadata": {
  "kernelspec": {
   "display_name": "Python 3",
   "language": "python",
   "name": "python3"
  },
  "language_info": {
   "codemirror_mode": {
    "name": "ipython",
    "version": 3
   },
   "file_extension": ".py",
   "mimetype": "text/x-python",
   "name": "python",
   "nbconvert_exporter": "python",
   "pygments_lexer": "ipython3",
   "version": "3.7.6"
  }
 },
 "nbformat": 4,
 "nbformat_minor": 4
}
