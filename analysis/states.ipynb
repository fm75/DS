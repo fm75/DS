{
 "cells": [
  {
   "cell_type": "code",
   "execution_count": 1,
   "metadata": {},
   "outputs": [],
   "source": [
    "import sys\n",
    "sys.path.append('../src')"
   ]
  },
  {
   "cell_type": "code",
   "execution_count": 2,
   "metadata": {},
   "outputs": [],
   "source": [
    "import ipywidgets as widgets\n",
    "import pandas as pd\n",
    "from ipywidgets import interact, interactive, fixed, interact_manual\n",
    "from pathlib import Path\n",
    "\n",
    "from covid import daily_snapshot\n",
    "import population as pop\n",
    "#import requests"
   ]
  },
  {
   "cell_type": "code",
   "execution_count": 3,
   "metadata": {},
   "outputs": [],
   "source": [
    "pd.set_option('max_rows', 300) "
   ]
  },
  {
   "cell_type": "code",
   "execution_count": 4,
   "metadata": {},
   "outputs": [],
   "source": [
    "def county_populations_for(state: str) -> pd.DataFrame:\n",
    "    data = Path('../data/counties')\n",
    "    state_pop_path = data / Path(state.replace(' ', '').lower() + '.csv')\n",
    "    state_pop = pd.read_csv(state_pop_path)\n",
    "    return state_pop"
   ]
  },
  {
   "cell_type": "code",
   "execution_count": 5,
   "metadata": {},
   "outputs": [],
   "source": [
    "def f(state, date, sort_by, ascending):\n",
    "    daily = daily_snapshot(datetime.strftime(date, '%m-%d-%Y'))\n",
    "#     state_covid = pd.read_csv('../data/us-states-only.csv')\n",
    "    county_pop = county_populations_for(state)\n",
    "    state_with_population = pd.merge(daily, county_pop,\n",
    "         how='outer',\n",
    "         left_on='Admin2', right_on='county')\n",
    "\n",
    "    state_with_population['fraction_confirmed'] = state_with_population['Confirmed'] / state_with_population['pop2019']   * 1000.0\n",
    "    state_with_population['deaths']             = state_with_population['Deaths']    / state_with_population['pop2019']   * 1000.0\n",
    "    state_with_population['death_rate?']        = state_with_population['Deaths']    / state_with_population['Confirmed'] * 1000.0\n",
    "\n",
    "    # sort_by = input(\"column to sort Confirmed, Deaths, county, pop2019, fraction_confirmed, deaths, death_rate?\")\n",
    "    print(state_with_population.sort_values(by=sort_by, ascending=False))\n"
   ]
  },
  {
   "cell_type": "code",
   "execution_count": 6,
   "metadata": {},
   "outputs": [],
   "source": [
    "cp = county_populations_for('wyoming')"
   ]
  },
  {
   "cell_type": "code",
   "execution_count": 7,
   "metadata": {},
   "outputs": [
    {
     "data": {
      "text/html": [
       "<div>\n",
       "<style scoped>\n",
       "    .dataframe tbody tr th:only-of-type {\n",
       "        vertical-align: middle;\n",
       "    }\n",
       "\n",
       "    .dataframe tbody tr th {\n",
       "        vertical-align: top;\n",
       "    }\n",
       "\n",
       "    .dataframe thead th {\n",
       "        text-align: right;\n",
       "    }\n",
       "</style>\n",
       "<table border=\"1\" class=\"dataframe\">\n",
       "  <thead>\n",
       "    <tr style=\"text-align: right;\">\n",
       "      <th></th>\n",
       "      <th>Rank</th>\n",
       "      <th>county</th>\n",
       "      <th>pop2019</th>\n",
       "    </tr>\n",
       "  </thead>\n",
       "  <tbody>\n",
       "    <tr>\n",
       "      <th>0</th>\n",
       "      <td>1</td>\n",
       "      <td>Laramie</td>\n",
       "      <td>97692</td>\n",
       "    </tr>\n",
       "    <tr>\n",
       "      <th>1</th>\n",
       "      <td>2</td>\n",
       "      <td>Natrona</td>\n",
       "      <td>80610</td>\n",
       "    </tr>\n",
       "    <tr>\n",
       "      <th>2</th>\n",
       "      <td>3</td>\n",
       "      <td>Campbell</td>\n",
       "      <td>47708</td>\n",
       "    </tr>\n",
       "    <tr>\n",
       "      <th>3</th>\n",
       "      <td>4</td>\n",
       "      <td>Sweetwater</td>\n",
       "      <td>44117</td>\n",
       "    </tr>\n",
       "    <tr>\n",
       "      <th>4</th>\n",
       "      <td>5</td>\n",
       "      <td>Fremont</td>\n",
       "      <td>40076</td>\n",
       "    </tr>\n",
       "  </tbody>\n",
       "</table>\n",
       "</div>"
      ],
      "text/plain": [
       "   Rank      county  pop2019\n",
       "0     1     Laramie    97692\n",
       "1     2     Natrona    80610\n",
       "2     3    Campbell    47708\n",
       "3     4  Sweetwater    44117\n",
       "4     5     Fremont    40076"
      ]
     },
     "execution_count": 7,
     "metadata": {},
     "output_type": "execute_result"
    }
   ],
   "source": [
    "cp.head()"
   ]
  },
  {
   "cell_type": "code",
   "execution_count": 8,
   "metadata": {},
   "outputs": [],
   "source": [
    "state_covid = pd.read_csv('../data/us-states-only.csv')"
   ]
  },
  {
   "cell_type": "code",
   "execution_count": 9,
   "metadata": {},
   "outputs": [
    {
     "data": {
      "text/html": [
       "<div>\n",
       "<style scoped>\n",
       "    .dataframe tbody tr th:only-of-type {\n",
       "        vertical-align: middle;\n",
       "    }\n",
       "\n",
       "    .dataframe tbody tr th {\n",
       "        vertical-align: top;\n",
       "    }\n",
       "\n",
       "    .dataframe thead th {\n",
       "        text-align: right;\n",
       "    }\n",
       "</style>\n",
       "<table border=\"1\" class=\"dataframe\">\n",
       "  <thead>\n",
       "    <tr style=\"text-align: right;\">\n",
       "      <th></th>\n",
       "      <th>state</th>\n",
       "    </tr>\n",
       "  </thead>\n",
       "  <tbody>\n",
       "    <tr>\n",
       "      <th>0</th>\n",
       "      <td>Alabama</td>\n",
       "    </tr>\n",
       "    <tr>\n",
       "      <th>1</th>\n",
       "      <td>Alaska</td>\n",
       "    </tr>\n",
       "  </tbody>\n",
       "</table>\n",
       "</div>"
      ],
      "text/plain": [
       "     state\n",
       "0  Alabama\n",
       "1   Alaska"
      ]
     },
     "execution_count": 9,
     "metadata": {},
     "output_type": "execute_result"
    }
   ],
   "source": [
    "state_covid.head(2)"
   ]
  },
  {
   "cell_type": "code",
   "execution_count": 10,
   "metadata": {},
   "outputs": [
    {
     "name": "stdout",
     "output_type": "stream",
     "text": [
      "      Unnamed: 0      Admin2 Province_State  Country_Region  \\\n",
      "1396         NaN      Marion        Indiana              US   \n",
      "573          NaN      Dallas          Texas              US   \n",
      "1532         NaN      Monroe       New York              US   \n",
      "1534         NaN      Monroe   Pennsylvania              US   \n",
      "772          NaN    Franklin           Ohio              US   \n",
      "...          ...         ...            ...             ...   \n",
      "2760         NaN         NaN            NaN  Western Sahara   \n",
      "2761         NaN         NaN            NaN          Zambia   \n",
      "2762         NaN         NaN            NaN        Zimbabwe   \n",
      "2763         NaN  unassigned        Wyoming              US   \n",
      "2764         NaN         NaN            NaN             NaN   \n",
      "\n",
      "              Last_Update        Lat      Long_  Confirmed  Deaths  Recovered  \\\n",
      "1396  2020-04-05 23:06:45  39.781636 -86.138263     1760.0    37.0        0.0   \n",
      "573   2020-04-05 23:06:45  32.766706 -96.777961     1112.0    18.0        0.0   \n",
      "1532  2020-04-05 23:06:45  43.146389 -77.693229      548.0    19.0        0.0   \n",
      "1534  2020-04-05 23:06:45  41.059341 -75.340310      528.0    11.0        0.0   \n",
      "772   2020-04-05 23:06:45  39.969958 -83.011158      597.0     8.0        0.0   \n",
      "...                   ...        ...        ...        ...     ...        ...   \n",
      "2760  2020-04-05 23:06:26  24.215500 -12.885800        4.0     0.0        0.0   \n",
      "2761  2020-04-05 23:06:26 -13.133897  27.849332       39.0     1.0        3.0   \n",
      "2762  2020-04-05 23:06:26 -19.015438  29.154857        9.0     1.0        0.0   \n",
      "2763  2020-04-05 23:06:45        NaN        NaN        0.0     0.0        0.0   \n",
      "2764                  NaN        NaN        NaN        NaN     NaN        NaN   \n",
      "\n",
      "      Active              Combined_Key  Rank    county  pop2019  \\\n",
      "1396     0.0       Marion, Indiana, US  38.0    Marion  29965.0   \n",
      "573      0.0         Dallas, Texas, US  31.0    Dallas  40029.0   \n",
      "1532     0.0      Monroe, New York, US  46.0    Monroe  21512.0   \n",
      "1534     0.0  Monroe, Pennsylvania, US  46.0    Monroe  21512.0   \n",
      "772      0.0        Franklin, Ohio, US  37.0  Franklin  31542.0   \n",
      "...      ...                       ...   ...       ...      ...   \n",
      "2760     4.0          ,,Western Sahara   NaN       NaN      NaN   \n",
      "2761    35.0                    Zambia   NaN       NaN      NaN   \n",
      "2762     8.0                  Zimbabwe   NaN       NaN      NaN   \n",
      "2763     0.0   unassigned, Wyoming, US   NaN       NaN      NaN   \n",
      "2764     NaN                       NaN  39.0    Geneva  26491.0   \n",
      "\n",
      "      fraction_confirmed    deaths  death_rate?  \n",
      "1396           58.735191  1.234774    21.022727  \n",
      "573            27.779860  0.449674    16.187050  \n",
      "1532           25.474154  0.883228    34.671533  \n",
      "1534           24.544440  0.511343    20.833333  \n",
      "772            18.927145  0.253630    13.400335  \n",
      "...                  ...       ...          ...  \n",
      "2760                 NaN       NaN     0.000000  \n",
      "2761                 NaN       NaN    25.641026  \n",
      "2762                 NaN       NaN   111.111111  \n",
      "2763                 NaN       NaN          NaN  \n",
      "2764                 NaN       NaN          NaN  \n",
      "\n",
      "[2765 rows x 18 columns]\n"
     ]
    },
    {
     "data": {
      "application/vnd.jupyter.widget-view+json": {
       "model_id": "db30553e9cc94826bc113dd5639c3d89",
       "version_major": 2,
       "version_minor": 0
      },
      "text/plain": [
       "HBox(children=(Select(description='State:', options=('Alabama', 'Alaska', 'Arizona', 'Arkansas', 'California',…"
      ]
     },
     "metadata": {},
     "output_type": "display_data"
    },
    {
     "data": {
      "application/vnd.jupyter.widget-view+json": {
       "model_id": "fe1aea8cd67a4df4a3a5327decdac125",
       "version_major": 2,
       "version_minor": 0
      },
      "text/plain": [
       "Output()"
      ]
     },
     "metadata": {},
     "output_type": "display_data"
    }
   ],
   "source": [
    "states = list(pd.read_csv('../data/us-states-only.csv').state)\n",
    "\n",
    "state = widgets.Select(\n",
    "    options=states,\n",
    "    #value='Alabama',\n",
    "    rows=10,\n",
    "    description='State:',\n",
    "    disabled=False\n",
    "    )\n",
    "\n",
    "from datetime import datetime, timedelta\n",
    "date = widgets.DatePicker(description='Date',\n",
    "                          value=datetime.today() - timedelta(1),\n",
    "                          disabled=False\n",
    "                          )\n",
    "\n",
    "sort_by = widgets.Select(\n",
    "    options=['Confirmed', \n",
    "             'Deaths', \n",
    "             'county', \n",
    "             'pop2019', \n",
    "             'fraction_confirmed', \n",
    "             'deaths', \n",
    "             'death_rate?'],\n",
    "    value='fraction_confirmed',\n",
    "    rows=7,\n",
    "    description='sort by:',\n",
    "    disabled=False\n",
    "    )\n",
    "\n",
    "ascending = widgets.Checkbox(\n",
    "    value=True,\n",
    "    description='Sort Ascending',\n",
    "    disabled=False,\n",
    "    indent=False\n",
    ")\n",
    "\n",
    "ui = widgets.HBox([state, date, sort_by, ascending])\n",
    "\n",
    "\n",
    "\n",
    "out = widgets.interactive_output(f, {'state': state, \n",
    "                                     'date': date, \n",
    "                                     'sort_by': sort_by,\n",
    "                                     'ascending': ascending})\n",
    "\n",
    "display(ui, out)"
   ]
  },
  {
   "cell_type": "code",
   "execution_count": null,
   "metadata": {},
   "outputs": [],
   "source": []
  },
  {
   "cell_type": "code",
   "execution_count": null,
   "metadata": {},
   "outputs": [],
   "source": []
  },
  {
   "cell_type": "code",
   "execution_count": null,
   "metadata": {},
   "outputs": [],
   "source": []
  },
  {
   "cell_type": "code",
   "execution_count": null,
   "metadata": {},
   "outputs": [],
   "source": []
  }
 ],
 "metadata": {
  "kernelspec": {
   "display_name": "Python 3",
   "language": "python",
   "name": "python3"
  },
  "language_info": {
   "codemirror_mode": {
    "name": "ipython",
    "version": 3
   },
   "file_extension": ".py",
   "mimetype": "text/x-python",
   "name": "python",
   "nbconvert_exporter": "python",
   "pygments_lexer": "ipython3",
   "version": "3.7.6"
  }
 },
 "nbformat": 4,
 "nbformat_minor": 4
}
